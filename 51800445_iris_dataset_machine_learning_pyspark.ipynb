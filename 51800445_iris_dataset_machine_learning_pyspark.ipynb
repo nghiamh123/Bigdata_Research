{
  "nbformat": 4,
  "nbformat_minor": 0,
  "metadata": {
    "colab": {
      "name": "iris_dataset_machine_learning_pyspark.ipynb",
      "provenance": [],
      "collapsed_sections": []
    },
    "kernelspec": {
      "name": "python3",
      "display_name": "Python 3"
    },
    "language_info": {
      "name": "python"
    }
  },
  "cells": [
    {
      "cell_type": "code",
      "metadata": {
        "id": "8eBHxCO43LzT",
        "colab": {
          "base_uri": "https://localhost:8080/"
        },
        "outputId": "fc66b8b3-cbcd-423e-c556-4d86cc1ad18d"
      },
      "source": [
        "!pip install pyspark"
      ],
      "execution_count": 70,
      "outputs": [
        {
          "output_type": "stream",
          "text": [
            "Requirement already satisfied: pyspark in /usr/local/lib/python3.7/dist-packages (3.1.1)\n",
            "Requirement already satisfied: py4j==0.10.9 in /usr/local/lib/python3.7/dist-packages (from pyspark) (0.10.9)\n"
          ],
          "name": "stdout"
        }
      ]
    },
    {
      "cell_type": "code",
      "metadata": {
        "id": "rMfEaUEgj5A-"
      },
      "source": [
        "from pyspark.sql import SparkSession\n",
        "spark = SparkSession.builder.appName('ML project').getOrCreate()"
      ],
      "execution_count": 71,
      "outputs": []
    },
    {
      "cell_type": "code",
      "metadata": {
        "colab": {
          "base_uri": "https://localhost:8080/"
        },
        "id": "QX_Nunf0kl7-",
        "outputId": "1ea824a0-febf-4b34-aa53-5425e4e2cdb6"
      },
      "source": [
        "# load data \n",
        "df = spark.read.csv('iris.data', header = True, inferSchema = True)\n",
        "df.printSchema()"
      ],
      "execution_count": 72,
      "outputs": [
        {
          "output_type": "stream",
          "text": [
            "root\n",
            " |-- sepal_length: double (nullable = true)\n",
            " |-- sepal_width: double (nullable = true)\n",
            " |-- petal_length: double (nullable = true)\n",
            " |-- petal_width: double (nullable = true)\n",
            " |-- class: string (nullable = true)\n",
            "\n"
          ],
          "name": "stdout"
        }
      ]
    },
    {
      "cell_type": "code",
      "metadata": {
        "id": "WXLKEqa4_PXX"
      },
      "source": [
        "k=len(df.columns)\n",
        "for i in range(k):\n",
        "  old_name = df.columns[i]\n",
        "  new_name = 'f'+str(i)\n",
        "  print(old_name,new_name)\n",
        "  df=df.withColumnRenamed(old_name,new_name)"
      ],
      "execution_count": null,
      "outputs": []
    },
    {
      "cell_type": "code",
      "metadata": {
        "colab": {
          "base_uri": "https://localhost:8080/"
        },
        "id": "G4-iF40NA5zK",
        "outputId": "e5702ddc-f55c-49de-a735-3f7bcd277dee"
      },
      "source": [
        "df.show()"
      ],
      "execution_count": 74,
      "outputs": [
        {
          "output_type": "stream",
          "text": [
            "+---+---+---+---+-----------+\n",
            "| f0| f1| f2| f3|         f4|\n",
            "+---+---+---+---+-----------+\n",
            "|5.1|3.5|1.4|0.2|Iris-setosa|\n",
            "|4.9|3.0|1.4|0.2|Iris-setosa|\n",
            "|4.7|3.2|1.3|0.2|Iris-setosa|\n",
            "|4.6|3.1|1.5|0.2|Iris-setosa|\n",
            "|5.0|3.6|1.4|0.2|Iris-setosa|\n",
            "|5.4|3.9|1.7|0.4|Iris-setosa|\n",
            "|4.6|3.4|1.4|0.3|Iris-setosa|\n",
            "|5.0|3.4|1.5|0.2|Iris-setosa|\n",
            "|4.4|2.9|1.4|0.2|Iris-setosa|\n",
            "|4.9|3.1|1.5|0.1|Iris-setosa|\n",
            "|5.4|3.7|1.5|0.2|Iris-setosa|\n",
            "|4.8|3.4|1.6|0.2|Iris-setosa|\n",
            "|4.8|3.0|1.4|0.1|Iris-setosa|\n",
            "|4.3|3.0|1.1|0.1|Iris-setosa|\n",
            "|5.8|4.0|1.2|0.2|Iris-setosa|\n",
            "|5.7|4.4|1.5|0.4|Iris-setosa|\n",
            "|5.4|3.9|1.3|0.4|Iris-setosa|\n",
            "|5.1|3.5|1.4|0.3|Iris-setosa|\n",
            "|5.7|3.8|1.7|0.3|Iris-setosa|\n",
            "|5.1|3.8|1.5|0.3|Iris-setosa|\n",
            "+---+---+---+---+-----------+\n",
            "only showing top 20 rows\n",
            "\n"
          ],
          "name": "stdout"
        }
      ]
    },
    {
      "cell_type": "code",
      "metadata": {
        "colab": {
          "base_uri": "https://localhost:8080/",
          "height": 195
        },
        "id": "de87gxp6kqrA",
        "outputId": "1a3a8a63-279a-494e-a4a2-0228eadaf027"
      },
      "source": [
        "# Show Dataset in DataFrame\n",
        "import pandas as pd\n",
        "pd.DataFrame(df.take(5), columns=df.columns).transpose()"
      ],
      "execution_count": 75,
      "outputs": [
        {
          "output_type": "execute_result",
          "data": {
            "text/html": [
              "<div>\n",
              "<style scoped>\n",
              "    .dataframe tbody tr th:only-of-type {\n",
              "        vertical-align: middle;\n",
              "    }\n",
              "\n",
              "    .dataframe tbody tr th {\n",
              "        vertical-align: top;\n",
              "    }\n",
              "\n",
              "    .dataframe thead th {\n",
              "        text-align: right;\n",
              "    }\n",
              "</style>\n",
              "<table border=\"1\" class=\"dataframe\">\n",
              "  <thead>\n",
              "    <tr style=\"text-align: right;\">\n",
              "      <th></th>\n",
              "      <th>0</th>\n",
              "      <th>1</th>\n",
              "      <th>2</th>\n",
              "      <th>3</th>\n",
              "      <th>4</th>\n",
              "    </tr>\n",
              "  </thead>\n",
              "  <tbody>\n",
              "    <tr>\n",
              "      <th>f0</th>\n",
              "      <td>5.1</td>\n",
              "      <td>4.9</td>\n",
              "      <td>4.7</td>\n",
              "      <td>4.6</td>\n",
              "      <td>5</td>\n",
              "    </tr>\n",
              "    <tr>\n",
              "      <th>f1</th>\n",
              "      <td>3.5</td>\n",
              "      <td>3</td>\n",
              "      <td>3.2</td>\n",
              "      <td>3.1</td>\n",
              "      <td>3.6</td>\n",
              "    </tr>\n",
              "    <tr>\n",
              "      <th>f2</th>\n",
              "      <td>1.4</td>\n",
              "      <td>1.4</td>\n",
              "      <td>1.3</td>\n",
              "      <td>1.5</td>\n",
              "      <td>1.4</td>\n",
              "    </tr>\n",
              "    <tr>\n",
              "      <th>f3</th>\n",
              "      <td>0.2</td>\n",
              "      <td>0.2</td>\n",
              "      <td>0.2</td>\n",
              "      <td>0.2</td>\n",
              "      <td>0.2</td>\n",
              "    </tr>\n",
              "    <tr>\n",
              "      <th>f4</th>\n",
              "      <td>Iris-setosa</td>\n",
              "      <td>Iris-setosa</td>\n",
              "      <td>Iris-setosa</td>\n",
              "      <td>Iris-setosa</td>\n",
              "      <td>Iris-setosa</td>\n",
              "    </tr>\n",
              "  </tbody>\n",
              "</table>\n",
              "</div>"
            ],
            "text/plain": [
              "              0            1            2            3            4\n",
              "f0          5.1          4.9          4.7          4.6            5\n",
              "f1          3.5            3          3.2          3.1          3.6\n",
              "f2          1.4          1.4          1.3          1.5          1.4\n",
              "f3          0.2          0.2          0.2          0.2          0.2\n",
              "f4  Iris-setosa  Iris-setosa  Iris-setosa  Iris-setosa  Iris-setosa"
            ]
          },
          "metadata": {
            "tags": []
          },
          "execution_count": 75
        }
      ]
    },
    {
      "cell_type": "code",
      "metadata": {
        "colab": {
          "base_uri": "https://localhost:8080/",
          "height": 136
        },
        "id": "kGzNZkJbmdpd",
        "outputId": "021f0fb9-a9ef-411c-ee1d-6b6482af4d88"
      },
      "source": [
        "# Data grouping by class \n",
        "class_name = df.columns[len(df.columns)-1]\n",
        "df.groupby(class_name).count().toPandas()"
      ],
      "execution_count": 76,
      "outputs": [
        {
          "output_type": "execute_result",
          "data": {
            "text/html": [
              "<div>\n",
              "<style scoped>\n",
              "    .dataframe tbody tr th:only-of-type {\n",
              "        vertical-align: middle;\n",
              "    }\n",
              "\n",
              "    .dataframe tbody tr th {\n",
              "        vertical-align: top;\n",
              "    }\n",
              "\n",
              "    .dataframe thead th {\n",
              "        text-align: right;\n",
              "    }\n",
              "</style>\n",
              "<table border=\"1\" class=\"dataframe\">\n",
              "  <thead>\n",
              "    <tr style=\"text-align: right;\">\n",
              "      <th></th>\n",
              "      <th>f4</th>\n",
              "      <th>count</th>\n",
              "    </tr>\n",
              "  </thead>\n",
              "  <tbody>\n",
              "    <tr>\n",
              "      <th>0</th>\n",
              "      <td>Iris-virginica</td>\n",
              "      <td>50</td>\n",
              "    </tr>\n",
              "    <tr>\n",
              "      <th>1</th>\n",
              "      <td>Iris-setosa</td>\n",
              "      <td>50</td>\n",
              "    </tr>\n",
              "    <tr>\n",
              "      <th>2</th>\n",
              "      <td>Iris-versicolor</td>\n",
              "      <td>50</td>\n",
              "    </tr>\n",
              "  </tbody>\n",
              "</table>\n",
              "</div>"
            ],
            "text/plain": [
              "                f4  count\n",
              "0   Iris-virginica     50\n",
              "1      Iris-setosa     50\n",
              "2  Iris-versicolor     50"
            ]
          },
          "metadata": {
            "tags": []
          },
          "execution_count": 76
        }
      ]
    },
    {
      "cell_type": "code",
      "metadata": {
        "id": "pXDl0PEbDTPs"
      },
      "source": [
        "# convert string to numeric \n",
        "from pyspark.ml.feature import StringIndexer\n",
        "indexer = StringIndexer()\n",
        "indexer.setInputCol(class_name).setOutputCol(\"label\")\n",
        "df1 = indexer.fit(df).transform(df)\n"
      ],
      "execution_count": 77,
      "outputs": []
    },
    {
      "cell_type": "code",
      "metadata": {
        "colab": {
          "base_uri": "https://localhost:8080/"
        },
        "id": "YniicMYpEj6c",
        "outputId": "e79a36e9-ab2c-4114-f61b-8fc5d674233c"
      },
      "source": [
        "df1.show()"
      ],
      "execution_count": null,
      "outputs": [
        {
          "output_type": "stream",
          "text": [
            "+---+---+---+---+-----------+-----+\n",
            "| f0| f1| f2| f3|         f4|label|\n",
            "+---+---+---+---+-----------+-----+\n",
            "|5.1|3.5|1.4|0.2|Iris-setosa|  0.0|\n",
            "|4.9|3.0|1.4|0.2|Iris-setosa|  0.0|\n",
            "|4.7|3.2|1.3|0.2|Iris-setosa|  0.0|\n",
            "|4.6|3.1|1.5|0.2|Iris-setosa|  0.0|\n",
            "|5.0|3.6|1.4|0.2|Iris-setosa|  0.0|\n",
            "|5.4|3.9|1.7|0.4|Iris-setosa|  0.0|\n",
            "|4.6|3.4|1.4|0.3|Iris-setosa|  0.0|\n",
            "|5.0|3.4|1.5|0.2|Iris-setosa|  0.0|\n",
            "|4.4|2.9|1.4|0.2|Iris-setosa|  0.0|\n",
            "|4.9|3.1|1.5|0.1|Iris-setosa|  0.0|\n",
            "|5.4|3.7|1.5|0.2|Iris-setosa|  0.0|\n",
            "|4.8|3.4|1.6|0.2|Iris-setosa|  0.0|\n",
            "|4.8|3.0|1.4|0.1|Iris-setosa|  0.0|\n",
            "|4.3|3.0|1.1|0.1|Iris-setosa|  0.0|\n",
            "|5.8|4.0|1.2|0.2|Iris-setosa|  0.0|\n",
            "|5.7|4.4|1.5|0.4|Iris-setosa|  0.0|\n",
            "|5.4|3.9|1.3|0.4|Iris-setosa|  0.0|\n",
            "|5.1|3.5|1.4|0.3|Iris-setosa|  0.0|\n",
            "|5.7|3.8|1.7|0.3|Iris-setosa|  0.0|\n",
            "|5.1|3.8|1.5|0.3|Iris-setosa|  0.0|\n",
            "+---+---+---+---+-----------+-----+\n",
            "only showing top 20 rows\n",
            "\n"
          ],
          "name": "stdout"
        }
      ]
    },
    {
      "cell_type": "code",
      "metadata": {
        "id": "_0SmzsUPnLkQ"
      },
      "source": [
        "# Split the data\n",
        "(training_data, test_data) = df1.randomSplit([0.8,0.2])"
      ],
      "execution_count": 78,
      "outputs": []
    },
    {
      "cell_type": "code",
      "metadata": {
        "colab": {
          "base_uri": "https://localhost:8080/",
          "height": 402
        },
        "id": "8UMP2HRxngOl",
        "outputId": "d07f2888-a3e4-43b4-a254-e57b2a6a3d8b"
      },
      "source": [
        "training_data.toPandas()"
      ],
      "execution_count": 79,
      "outputs": [
        {
          "output_type": "execute_result",
          "data": {
            "text/html": [
              "<div>\n",
              "<style scoped>\n",
              "    .dataframe tbody tr th:only-of-type {\n",
              "        vertical-align: middle;\n",
              "    }\n",
              "\n",
              "    .dataframe tbody tr th {\n",
              "        vertical-align: top;\n",
              "    }\n",
              "\n",
              "    .dataframe thead th {\n",
              "        text-align: right;\n",
              "    }\n",
              "</style>\n",
              "<table border=\"1\" class=\"dataframe\">\n",
              "  <thead>\n",
              "    <tr style=\"text-align: right;\">\n",
              "      <th></th>\n",
              "      <th>f0</th>\n",
              "      <th>f1</th>\n",
              "      <th>f2</th>\n",
              "      <th>f3</th>\n",
              "      <th>f4</th>\n",
              "      <th>label</th>\n",
              "    </tr>\n",
              "  </thead>\n",
              "  <tbody>\n",
              "    <tr>\n",
              "      <th>0</th>\n",
              "      <td>4.3</td>\n",
              "      <td>3.0</td>\n",
              "      <td>1.1</td>\n",
              "      <td>0.1</td>\n",
              "      <td>Iris-setosa</td>\n",
              "      <td>0.0</td>\n",
              "    </tr>\n",
              "    <tr>\n",
              "      <th>1</th>\n",
              "      <td>4.4</td>\n",
              "      <td>2.9</td>\n",
              "      <td>1.4</td>\n",
              "      <td>0.2</td>\n",
              "      <td>Iris-setosa</td>\n",
              "      <td>0.0</td>\n",
              "    </tr>\n",
              "    <tr>\n",
              "      <th>2</th>\n",
              "      <td>4.4</td>\n",
              "      <td>3.0</td>\n",
              "      <td>1.3</td>\n",
              "      <td>0.2</td>\n",
              "      <td>Iris-setosa</td>\n",
              "      <td>0.0</td>\n",
              "    </tr>\n",
              "    <tr>\n",
              "      <th>3</th>\n",
              "      <td>4.6</td>\n",
              "      <td>3.2</td>\n",
              "      <td>1.4</td>\n",
              "      <td>0.2</td>\n",
              "      <td>Iris-setosa</td>\n",
              "      <td>0.0</td>\n",
              "    </tr>\n",
              "    <tr>\n",
              "      <th>4</th>\n",
              "      <td>4.6</td>\n",
              "      <td>3.4</td>\n",
              "      <td>1.4</td>\n",
              "      <td>0.3</td>\n",
              "      <td>Iris-setosa</td>\n",
              "      <td>0.0</td>\n",
              "    </tr>\n",
              "    <tr>\n",
              "      <th>...</th>\n",
              "      <td>...</td>\n",
              "      <td>...</td>\n",
              "      <td>...</td>\n",
              "      <td>...</td>\n",
              "      <td>...</td>\n",
              "      <td>...</td>\n",
              "    </tr>\n",
              "    <tr>\n",
              "      <th>108</th>\n",
              "      <td>7.4</td>\n",
              "      <td>2.8</td>\n",
              "      <td>6.1</td>\n",
              "      <td>1.9</td>\n",
              "      <td>Iris-virginica</td>\n",
              "      <td>2.0</td>\n",
              "    </tr>\n",
              "    <tr>\n",
              "      <th>109</th>\n",
              "      <td>7.7</td>\n",
              "      <td>2.6</td>\n",
              "      <td>6.9</td>\n",
              "      <td>2.3</td>\n",
              "      <td>Iris-virginica</td>\n",
              "      <td>2.0</td>\n",
              "    </tr>\n",
              "    <tr>\n",
              "      <th>110</th>\n",
              "      <td>7.7</td>\n",
              "      <td>2.8</td>\n",
              "      <td>6.7</td>\n",
              "      <td>2.0</td>\n",
              "      <td>Iris-virginica</td>\n",
              "      <td>2.0</td>\n",
              "    </tr>\n",
              "    <tr>\n",
              "      <th>111</th>\n",
              "      <td>7.7</td>\n",
              "      <td>3.0</td>\n",
              "      <td>6.1</td>\n",
              "      <td>2.3</td>\n",
              "      <td>Iris-virginica</td>\n",
              "      <td>2.0</td>\n",
              "    </tr>\n",
              "    <tr>\n",
              "      <th>112</th>\n",
              "      <td>7.7</td>\n",
              "      <td>3.8</td>\n",
              "      <td>6.7</td>\n",
              "      <td>2.2</td>\n",
              "      <td>Iris-virginica</td>\n",
              "      <td>2.0</td>\n",
              "    </tr>\n",
              "  </tbody>\n",
              "</table>\n",
              "<p>113 rows × 6 columns</p>\n",
              "</div>"
            ],
            "text/plain": [
              "      f0   f1   f2   f3              f4  label\n",
              "0    4.3  3.0  1.1  0.1     Iris-setosa    0.0\n",
              "1    4.4  2.9  1.4  0.2     Iris-setosa    0.0\n",
              "2    4.4  3.0  1.3  0.2     Iris-setosa    0.0\n",
              "3    4.6  3.2  1.4  0.2     Iris-setosa    0.0\n",
              "4    4.6  3.4  1.4  0.3     Iris-setosa    0.0\n",
              "..   ...  ...  ...  ...             ...    ...\n",
              "108  7.4  2.8  6.1  1.9  Iris-virginica    2.0\n",
              "109  7.7  2.6  6.9  2.3  Iris-virginica    2.0\n",
              "110  7.7  2.8  6.7  2.0  Iris-virginica    2.0\n",
              "111  7.7  3.0  6.1  2.3  Iris-virginica    2.0\n",
              "112  7.7  3.8  6.7  2.2  Iris-virginica    2.0\n",
              "\n",
              "[113 rows x 6 columns]"
            ]
          },
          "metadata": {
            "tags": []
          },
          "execution_count": 79
        }
      ]
    },
    {
      "cell_type": "code",
      "metadata": {
        "colab": {
          "base_uri": "https://localhost:8080/"
        },
        "id": "YZM3tjtfoURi",
        "outputId": "15fc0982-ab1d-4725-ee30-03c609c8e78a"
      },
      "source": [
        "# features and class \n",
        "class_name = 'label'\n",
        "feature_names = df.columns[:-1]\n",
        "print(class_name)\n",
        "print(feature_names)"
      ],
      "execution_count": 80,
      "outputs": [
        {
          "output_type": "stream",
          "text": [
            "label\n",
            "['f0', 'f1', 'f2', 'f3']\n"
          ],
          "name": "stdout"
        }
      ]
    },
    {
      "cell_type": "code",
      "metadata": {
        "id": "ghq-y03buNuZ"
      },
      "source": [
        "from pyspark.ml.feature import VectorAssembler\n",
        "\n",
        "assembler = VectorAssembler()\n",
        "assembler.setInputCols(feature_names).setOutputCol('features')\n",
        "\n",
        "transformed_data = assembler.transform(df1)"
      ],
      "execution_count": 81,
      "outputs": []
    },
    {
      "cell_type": "code",
      "metadata": {
        "colab": {
          "base_uri": "https://localhost:8080/"
        },
        "id": "P955k-7Pu00v",
        "outputId": "a8e9a001-6120-4454-db1a-3434445280e2"
      },
      "source": [
        "transformed_data.show()"
      ],
      "execution_count": 82,
      "outputs": [
        {
          "output_type": "stream",
          "text": [
            "+---+---+---+---+-----------+-----+-----------------+\n",
            "| f0| f1| f2| f3|         f4|label|         features|\n",
            "+---+---+---+---+-----------+-----+-----------------+\n",
            "|5.1|3.5|1.4|0.2|Iris-setosa|  0.0|[5.1,3.5,1.4,0.2]|\n",
            "|4.9|3.0|1.4|0.2|Iris-setosa|  0.0|[4.9,3.0,1.4,0.2]|\n",
            "|4.7|3.2|1.3|0.2|Iris-setosa|  0.0|[4.7,3.2,1.3,0.2]|\n",
            "|4.6|3.1|1.5|0.2|Iris-setosa|  0.0|[4.6,3.1,1.5,0.2]|\n",
            "|5.0|3.6|1.4|0.2|Iris-setosa|  0.0|[5.0,3.6,1.4,0.2]|\n",
            "|5.4|3.9|1.7|0.4|Iris-setosa|  0.0|[5.4,3.9,1.7,0.4]|\n",
            "|4.6|3.4|1.4|0.3|Iris-setosa|  0.0|[4.6,3.4,1.4,0.3]|\n",
            "|5.0|3.4|1.5|0.2|Iris-setosa|  0.0|[5.0,3.4,1.5,0.2]|\n",
            "|4.4|2.9|1.4|0.2|Iris-setosa|  0.0|[4.4,2.9,1.4,0.2]|\n",
            "|4.9|3.1|1.5|0.1|Iris-setosa|  0.0|[4.9,3.1,1.5,0.1]|\n",
            "|5.4|3.7|1.5|0.2|Iris-setosa|  0.0|[5.4,3.7,1.5,0.2]|\n",
            "|4.8|3.4|1.6|0.2|Iris-setosa|  0.0|[4.8,3.4,1.6,0.2]|\n",
            "|4.8|3.0|1.4|0.1|Iris-setosa|  0.0|[4.8,3.0,1.4,0.1]|\n",
            "|4.3|3.0|1.1|0.1|Iris-setosa|  0.0|[4.3,3.0,1.1,0.1]|\n",
            "|5.8|4.0|1.2|0.2|Iris-setosa|  0.0|[5.8,4.0,1.2,0.2]|\n",
            "|5.7|4.4|1.5|0.4|Iris-setosa|  0.0|[5.7,4.4,1.5,0.4]|\n",
            "|5.4|3.9|1.3|0.4|Iris-setosa|  0.0|[5.4,3.9,1.3,0.4]|\n",
            "|5.1|3.5|1.4|0.3|Iris-setosa|  0.0|[5.1,3.5,1.4,0.3]|\n",
            "|5.7|3.8|1.7|0.3|Iris-setosa|  0.0|[5.7,3.8,1.7,0.3]|\n",
            "|5.1|3.8|1.5|0.3|Iris-setosa|  0.0|[5.1,3.8,1.5,0.3]|\n",
            "+---+---+---+---+-----------+-----+-----------------+\n",
            "only showing top 20 rows\n",
            "\n"
          ],
          "name": "stdout"
        }
      ]
    },
    {
      "cell_type": "code",
      "metadata": {
        "id": "eUGbwhoUBqpJ",
        "colab": {
          "base_uri": "https://localhost:8080/"
        },
        "outputId": "daef608e-1837-4658-b0f6-7ec1934ee755"
      },
      "source": [
        "# Split the data\n",
        "(training_data, test_data) = transformed_data.randomSplit([0.8,0.2], seed =51800364)\n",
        "print(\"Training Dataset Count: \" + str(training_data.count()))\n",
        "print(\"Test Dataset Count: \" + str(test_data.count()))"
      ],
      "execution_count": 83,
      "outputs": [
        {
          "output_type": "stream",
          "text": [
            "Training Dataset Count: 127\n",
            "Test Dataset Count: 23\n"
          ],
          "name": "stdout"
        }
      ]
    },
    {
      "cell_type": "code",
      "metadata": {
        "colab": {
          "base_uri": "https://localhost:8080/",
          "height": 402
        },
        "id": "TAKrhjYygY6n",
        "outputId": "956d4ea5-dc37-4978-ee14-1293303d5996"
      },
      "source": [
        "training_data.toPandas()"
      ],
      "execution_count": 84,
      "outputs": [
        {
          "output_type": "execute_result",
          "data": {
            "text/html": [
              "<div>\n",
              "<style scoped>\n",
              "    .dataframe tbody tr th:only-of-type {\n",
              "        vertical-align: middle;\n",
              "    }\n",
              "\n",
              "    .dataframe tbody tr th {\n",
              "        vertical-align: top;\n",
              "    }\n",
              "\n",
              "    .dataframe thead th {\n",
              "        text-align: right;\n",
              "    }\n",
              "</style>\n",
              "<table border=\"1\" class=\"dataframe\">\n",
              "  <thead>\n",
              "    <tr style=\"text-align: right;\">\n",
              "      <th></th>\n",
              "      <th>f0</th>\n",
              "      <th>f1</th>\n",
              "      <th>f2</th>\n",
              "      <th>f3</th>\n",
              "      <th>f4</th>\n",
              "      <th>label</th>\n",
              "      <th>features</th>\n",
              "    </tr>\n",
              "  </thead>\n",
              "  <tbody>\n",
              "    <tr>\n",
              "      <th>0</th>\n",
              "      <td>4.3</td>\n",
              "      <td>3.0</td>\n",
              "      <td>1.1</td>\n",
              "      <td>0.1</td>\n",
              "      <td>Iris-setosa</td>\n",
              "      <td>0.0</td>\n",
              "      <td>[4.3, 3.0, 1.1, 0.1]</td>\n",
              "    </tr>\n",
              "    <tr>\n",
              "      <th>1</th>\n",
              "      <td>4.4</td>\n",
              "      <td>2.9</td>\n",
              "      <td>1.4</td>\n",
              "      <td>0.2</td>\n",
              "      <td>Iris-setosa</td>\n",
              "      <td>0.0</td>\n",
              "      <td>[4.4, 2.9, 1.4, 0.2]</td>\n",
              "    </tr>\n",
              "    <tr>\n",
              "      <th>2</th>\n",
              "      <td>4.4</td>\n",
              "      <td>3.0</td>\n",
              "      <td>1.3</td>\n",
              "      <td>0.2</td>\n",
              "      <td>Iris-setosa</td>\n",
              "      <td>0.0</td>\n",
              "      <td>[4.4, 3.0, 1.3, 0.2]</td>\n",
              "    </tr>\n",
              "    <tr>\n",
              "      <th>3</th>\n",
              "      <td>4.5</td>\n",
              "      <td>2.3</td>\n",
              "      <td>1.3</td>\n",
              "      <td>0.3</td>\n",
              "      <td>Iris-setosa</td>\n",
              "      <td>0.0</td>\n",
              "      <td>[4.5, 2.3, 1.3, 0.3]</td>\n",
              "    </tr>\n",
              "    <tr>\n",
              "      <th>4</th>\n",
              "      <td>4.6</td>\n",
              "      <td>3.1</td>\n",
              "      <td>1.5</td>\n",
              "      <td>0.2</td>\n",
              "      <td>Iris-setosa</td>\n",
              "      <td>0.0</td>\n",
              "      <td>[4.6, 3.1, 1.5, 0.2]</td>\n",
              "    </tr>\n",
              "    <tr>\n",
              "      <th>...</th>\n",
              "      <td>...</td>\n",
              "      <td>...</td>\n",
              "      <td>...</td>\n",
              "      <td>...</td>\n",
              "      <td>...</td>\n",
              "      <td>...</td>\n",
              "      <td>...</td>\n",
              "    </tr>\n",
              "    <tr>\n",
              "      <th>122</th>\n",
              "      <td>7.7</td>\n",
              "      <td>2.6</td>\n",
              "      <td>6.9</td>\n",
              "      <td>2.3</td>\n",
              "      <td>Iris-virginica</td>\n",
              "      <td>2.0</td>\n",
              "      <td>[7.7, 2.6, 6.9, 2.3]</td>\n",
              "    </tr>\n",
              "    <tr>\n",
              "      <th>123</th>\n",
              "      <td>7.7</td>\n",
              "      <td>2.8</td>\n",
              "      <td>6.7</td>\n",
              "      <td>2.0</td>\n",
              "      <td>Iris-virginica</td>\n",
              "      <td>2.0</td>\n",
              "      <td>[7.7, 2.8, 6.7, 2.0]</td>\n",
              "    </tr>\n",
              "    <tr>\n",
              "      <th>124</th>\n",
              "      <td>7.7</td>\n",
              "      <td>3.0</td>\n",
              "      <td>6.1</td>\n",
              "      <td>2.3</td>\n",
              "      <td>Iris-virginica</td>\n",
              "      <td>2.0</td>\n",
              "      <td>[7.7, 3.0, 6.1, 2.3]</td>\n",
              "    </tr>\n",
              "    <tr>\n",
              "      <th>125</th>\n",
              "      <td>7.7</td>\n",
              "      <td>3.8</td>\n",
              "      <td>6.7</td>\n",
              "      <td>2.2</td>\n",
              "      <td>Iris-virginica</td>\n",
              "      <td>2.0</td>\n",
              "      <td>[7.7, 3.8, 6.7, 2.2]</td>\n",
              "    </tr>\n",
              "    <tr>\n",
              "      <th>126</th>\n",
              "      <td>7.9</td>\n",
              "      <td>3.8</td>\n",
              "      <td>6.4</td>\n",
              "      <td>2.0</td>\n",
              "      <td>Iris-virginica</td>\n",
              "      <td>2.0</td>\n",
              "      <td>[7.9, 3.8, 6.4, 2.0]</td>\n",
              "    </tr>\n",
              "  </tbody>\n",
              "</table>\n",
              "<p>127 rows × 7 columns</p>\n",
              "</div>"
            ],
            "text/plain": [
              "      f0   f1   f2   f3              f4  label              features\n",
              "0    4.3  3.0  1.1  0.1     Iris-setosa    0.0  [4.3, 3.0, 1.1, 0.1]\n",
              "1    4.4  2.9  1.4  0.2     Iris-setosa    0.0  [4.4, 2.9, 1.4, 0.2]\n",
              "2    4.4  3.0  1.3  0.2     Iris-setosa    0.0  [4.4, 3.0, 1.3, 0.2]\n",
              "3    4.5  2.3  1.3  0.3     Iris-setosa    0.0  [4.5, 2.3, 1.3, 0.3]\n",
              "4    4.6  3.1  1.5  0.2     Iris-setosa    0.0  [4.6, 3.1, 1.5, 0.2]\n",
              "..   ...  ...  ...  ...             ...    ...                   ...\n",
              "122  7.7  2.6  6.9  2.3  Iris-virginica    2.0  [7.7, 2.6, 6.9, 2.3]\n",
              "123  7.7  2.8  6.7  2.0  Iris-virginica    2.0  [7.7, 2.8, 6.7, 2.0]\n",
              "124  7.7  3.0  6.1  2.3  Iris-virginica    2.0  [7.7, 3.0, 6.1, 2.3]\n",
              "125  7.7  3.8  6.7  2.2  Iris-virginica    2.0  [7.7, 3.8, 6.7, 2.2]\n",
              "126  7.9  3.8  6.4  2.0  Iris-virginica    2.0  [7.9, 3.8, 6.4, 2.0]\n",
              "\n",
              "[127 rows x 7 columns]"
            ]
          },
          "metadata": {
            "tags": []
          },
          "execution_count": 84
        }
      ]
    },
    {
      "cell_type": "code",
      "metadata": {
        "id": "LpLYf4Tab8sX"
      },
      "source": [
        "# Define the model\n",
        "from pyspark.ml.classification import RandomForestClassifier\n",
        "\n",
        "rf = RandomForestClassifier(labelCol='label', \n",
        "                            featuresCol='features',\n",
        "                            maxDepth=5)"
      ],
      "execution_count": 85,
      "outputs": []
    },
    {
      "cell_type": "code",
      "metadata": {
        "id": "JGJMwmNQcugy"
      },
      "source": [
        "# Fit the model\n",
        "model = rf.fit(training_data)"
      ],
      "execution_count": 86,
      "outputs": []
    },
    {
      "cell_type": "code",
      "metadata": {
        "id": "6ZMelInnczYa"
      },
      "source": [
        "# Predict with the test dataset\n",
        "rf_predictions = model.transform(test_data)"
      ],
      "execution_count": 87,
      "outputs": []
    },
    {
      "cell_type": "code",
      "metadata": {
        "colab": {
          "base_uri": "https://localhost:8080/"
        },
        "id": "k2O1qb3Cc1sK",
        "outputId": "a2bce34f-18bd-4a0f-d19f-31dfa5fc2d63"
      },
      "source": [
        "from pyspark.ml.evaluation import MulticlassClassificationEvaluator\n",
        "\n",
        "multi_evaluator = MulticlassClassificationEvaluator(labelCol = 'label', metricName = 'accuracy')\n",
        "print('Random Forest classifier Accuracy:', multi_evaluator.evaluate(rf_predictions))"
      ],
      "execution_count": 88,
      "outputs": [
        {
          "output_type": "stream",
          "text": [
            "Random Forest classifier Accuracy: 0.9130434782608695\n"
          ],
          "name": "stdout"
        }
      ]
    },
    {
      "cell_type": "code",
      "metadata": {
        "colab": {
          "base_uri": "https://localhost:8080/"
        },
        "id": "E7DBUpS-c757",
        "outputId": "377e962c-c3af-4967-f7d4-7c7c97d3b336"
      },
      "source": [
        "from pyspark.ml.classification import DecisionTreeClassifier\n",
        "\n",
        "dt = DecisionTreeClassifier(featuresCol = 'features', labelCol = 'label', maxDepth = 3)\n",
        "dtModel = dt.fit(training_data)\n",
        "dt_predictions = dtModel.transform(test_data)\n",
        "dt_predictions.show(10)"
      ],
      "execution_count": 89,
      "outputs": [
        {
          "output_type": "stream",
          "text": [
            "+---+---+---+---+---------------+-----+-----------------+--------------+--------------------+----------+\n",
            "| f0| f1| f2| f3|             f4|label|         features| rawPrediction|         probability|prediction|\n",
            "+---+---+---+---+---------------+-----+-----------------+--------------+--------------------+----------+\n",
            "|4.4|3.2|1.3|0.2|    Iris-setosa|  0.0|[4.4,3.2,1.3,0.2]|[45.0,0.0,0.0]|       [1.0,0.0,0.0]|       0.0|\n",
            "|4.9|2.5|4.5|1.7| Iris-virginica|  2.0|[4.9,2.5,4.5,1.7]|[0.0,38.0,0.0]|       [0.0,1.0,0.0]|       1.0|\n",
            "|5.0|3.4|1.5|0.2|    Iris-setosa|  0.0|[5.0,3.4,1.5,0.2]|[45.0,0.0,0.0]|       [1.0,0.0,0.0]|       0.0|\n",
            "|5.1|3.5|1.4|0.2|    Iris-setosa|  0.0|[5.1,3.5,1.4,0.2]|[45.0,0.0,0.0]|       [1.0,0.0,0.0]|       0.0|\n",
            "|5.2|2.7|3.9|1.4|Iris-versicolor|  1.0|[5.2,2.7,3.9,1.4]|[0.0,38.0,0.0]|       [0.0,1.0,0.0]|       1.0|\n",
            "|5.2|3.4|1.4|0.2|    Iris-setosa|  0.0|[5.2,3.4,1.4,0.2]|[45.0,0.0,0.0]|       [1.0,0.0,0.0]|       0.0|\n",
            "|5.2|3.5|1.5|0.2|    Iris-setosa|  0.0|[5.2,3.5,1.5,0.2]|[45.0,0.0,0.0]|       [1.0,0.0,0.0]|       0.0|\n",
            "|5.6|2.8|4.9|2.0| Iris-virginica|  2.0|[5.6,2.8,4.9,2.0]|[0.0,1.0,37.0]|[0.0,0.0263157894...|       2.0|\n",
            "|5.7|2.8|4.1|1.3|Iris-versicolor|  1.0|[5.7,2.8,4.1,1.3]|[0.0,38.0,0.0]|       [0.0,1.0,0.0]|       1.0|\n",
            "|5.7|2.9|4.2|1.3|Iris-versicolor|  1.0|[5.7,2.9,4.2,1.3]|[0.0,38.0,0.0]|       [0.0,1.0,0.0]|       1.0|\n",
            "+---+---+---+---+---------------+-----+-----------------+--------------+--------------------+----------+\n",
            "only showing top 10 rows\n",
            "\n"
          ],
          "name": "stdout"
        }
      ]
    },
    {
      "cell_type": "code",
      "metadata": {
        "colab": {
          "base_uri": "https://localhost:8080/"
        },
        "id": "GI5UqyxVdIeT",
        "outputId": "3e705174-9398-4063-fec7-bbad1678a8af"
      },
      "source": [
        "from pyspark.ml.evaluation import MulticlassClassificationEvaluator\n",
        "\n",
        "multi_evaluator = MulticlassClassificationEvaluator(labelCol = 'label', metricName = 'accuracy')\n",
        "print('Decision Tree Accuracy:', multi_evaluator.evaluate(dt_predictions))"
      ],
      "execution_count": 90,
      "outputs": [
        {
          "output_type": "stream",
          "text": [
            "Decision Tree Accuracy: 0.9130434782608695\n"
          ],
          "name": "stdout"
        }
      ]
    },
    {
      "cell_type": "code",
      "metadata": {
        "id": "jRt2tVGWdM3L"
      },
      "source": [
        "from pyspark.ml.classification import LogisticRegression\n",
        "\n",
        "lr = LogisticRegression(featuresCol = 'features', labelCol = 'label', maxIter=10)\n",
        "lrModel = lr.fit(training_data)\n",
        "lr_predictions = dtModel.transform(test_data)"
      ],
      "execution_count": 91,
      "outputs": []
    },
    {
      "cell_type": "code",
      "metadata": {
        "colab": {
          "base_uri": "https://localhost:8080/"
        },
        "id": "HrlagXsUdQct",
        "outputId": "54d8646e-b7d5-4551-e934-cb5a50387ed9"
      },
      "source": [
        "from pyspark.ml.evaluation import MulticlassClassificationEvaluator\n",
        "\n",
        "multi_evaluator = MulticlassClassificationEvaluator(labelCol = 'label', metricName = 'accuracy')\n",
        "print('Logistic Regression Accuracy:', multi_evaluator.evaluate(lr_predictions))"
      ],
      "execution_count": 92,
      "outputs": [
        {
          "output_type": "stream",
          "text": [
            "Logistic Regression Accuracy: 0.9130434782608695\n"
          ],
          "name": "stdout"
        }
      ]
    }
  ]
}