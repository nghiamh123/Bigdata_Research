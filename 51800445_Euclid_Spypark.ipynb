{
  "nbformat": 4,
  "nbformat_minor": 0,
  "metadata": {
    "colab": {
      "name": "Euclid_Spypark.ipynb",
      "provenance": []
    },
    "kernelspec": {
      "name": "python3",
      "display_name": "Python 3"
    },
    "language_info": {
      "name": "python"
    }
  },
  "cells": [
    {
      "cell_type": "code",
      "metadata": {
        "colab": {
          "base_uri": "https://localhost:8080/"
        },
        "id": "ewXsEkQRmsNf",
        "outputId": "51e6dabd-a8e1-4a13-ad75-fb89ffe79345"
      },
      "source": [
        "pip install pyspark"
      ],
      "execution_count": 1,
      "outputs": [
        {
          "output_type": "stream",
          "text": [
            "Collecting pyspark\n",
            "\u001b[?25l  Downloading https://files.pythonhosted.org/packages/45/b0/9d6860891ab14a39d4bddf80ba26ce51c2f9dc4805e5c6978ac0472c120a/pyspark-3.1.1.tar.gz (212.3MB)\n",
            "\u001b[K     |████████████████████████████████| 212.3MB 70kB/s \n",
            "\u001b[?25hCollecting py4j==0.10.9\n",
            "\u001b[?25l  Downloading https://files.pythonhosted.org/packages/9e/b6/6a4fb90cd235dc8e265a6a2067f2a2c99f0d91787f06aca4bcf7c23f3f80/py4j-0.10.9-py2.py3-none-any.whl (198kB)\n",
            "\u001b[K     |████████████████████████████████| 204kB 36.3MB/s \n",
            "\u001b[?25hBuilding wheels for collected packages: pyspark\n",
            "  Building wheel for pyspark (setup.py) ... \u001b[?25l\u001b[?25hdone\n",
            "  Created wheel for pyspark: filename=pyspark-3.1.1-py2.py3-none-any.whl size=212767604 sha256=5d44940766b706c20e7cf6f40b90c68c4fb48cb3594a20361c600759e9a957f5\n",
            "  Stored in directory: /root/.cache/pip/wheels/0b/90/c0/01de724414ef122bd05f056541fb6a0ecf47c7ca655f8b3c0f\n",
            "Successfully built pyspark\n",
            "Installing collected packages: py4j, pyspark\n",
            "Successfully installed py4j-0.10.9 pyspark-3.1.1\n"
          ],
          "name": "stdout"
        }
      ]
    },
    {
      "cell_type": "code",
      "metadata": {
        "id": "hHbM5CcLnK32"
      },
      "source": [
        "from pyspark import SparkConf, SparkContext\n",
        "import collections\n",
        "from pyspark.sql import SparkSession\n",
        "\n",
        "spark = SparkSession.builder.appName('ML').getOrCreate()"
      ],
      "execution_count": 2,
      "outputs": []
    },
    {
      "cell_type": "code",
      "metadata": {
        "id": "479vqpZxnMZH"
      },
      "source": [
        "df = spark.read.csv('/content/drive/MyDrive/XLDLL/iris.data',header=True, inferSchema= True)\n",
        "#df.printSchema()"
      ],
      "execution_count": 4,
      "outputs": []
    },
    {
      "cell_type": "code",
      "metadata": {
        "colab": {
          "base_uri": "https://localhost:8080/"
        },
        "id": "4ny7cITVnRaw",
        "outputId": "b67f2d79-b18b-45db-a117-6c14333e9b4a"
      },
      "source": [
        "k = len(df.columns)\n",
        "for i in range(k):\n",
        "    old_name = df.columns[i]\n",
        "    new_name = 'f' + str(i)\n",
        "    print(old_name,new_name)\n",
        "    df = df.withColumnRenamed(old_name,new_name)"
      ],
      "execution_count": 5,
      "outputs": [
        {
          "output_type": "stream",
          "text": [
            "5.1 f0\n",
            "3.5 f1\n",
            "1.4 f2\n",
            "0.2 f3\n",
            "Iris-setosa f4\n"
          ],
          "name": "stdout"
        }
      ]
    },
    {
      "cell_type": "code",
      "metadata": {
        "colab": {
          "base_uri": "https://localhost:8080/"
        },
        "id": "uIttrodhnTpm",
        "outputId": "0014d5b1-8dbc-4f9a-9e3e-47ad6c39d828"
      },
      "source": [
        "df.show()"
      ],
      "execution_count": 6,
      "outputs": [
        {
          "output_type": "stream",
          "text": [
            "+---+---+---+---+-----------+\n",
            "| f0| f1| f2| f3|         f4|\n",
            "+---+---+---+---+-----------+\n",
            "|4.9|3.0|1.4|0.2|Iris-setosa|\n",
            "|4.7|3.2|1.3|0.2|Iris-setosa|\n",
            "|4.6|3.1|1.5|0.2|Iris-setosa|\n",
            "|5.0|3.6|1.4|0.2|Iris-setosa|\n",
            "|5.4|3.9|1.7|0.4|Iris-setosa|\n",
            "|4.6|3.4|1.4|0.3|Iris-setosa|\n",
            "|5.0|3.4|1.5|0.2|Iris-setosa|\n",
            "|4.4|2.9|1.4|0.2|Iris-setosa|\n",
            "|4.9|3.1|1.5|0.1|Iris-setosa|\n",
            "|5.4|3.7|1.5|0.2|Iris-setosa|\n",
            "|4.8|3.4|1.6|0.2|Iris-setosa|\n",
            "|4.8|3.0|1.4|0.1|Iris-setosa|\n",
            "|4.3|3.0|1.1|0.1|Iris-setosa|\n",
            "|5.8|4.0|1.2|0.2|Iris-setosa|\n",
            "|5.7|4.4|1.5|0.4|Iris-setosa|\n",
            "|5.4|3.9|1.3|0.4|Iris-setosa|\n",
            "|5.1|3.5|1.4|0.3|Iris-setosa|\n",
            "|5.7|3.8|1.7|0.3|Iris-setosa|\n",
            "|5.1|3.8|1.5|0.3|Iris-setosa|\n",
            "|5.4|3.4|1.7|0.2|Iris-setosa|\n",
            "+---+---+---+---+-----------+\n",
            "only showing top 20 rows\n",
            "\n"
          ],
          "name": "stdout"
        }
      ]
    },
    {
      "cell_type": "code",
      "metadata": {
        "colab": {
          "base_uri": "https://localhost:8080/",
          "height": 195
        },
        "id": "EFSfkesPoGtl",
        "outputId": "823ed453-1024-4b86-9a2f-8cf07b57190f"
      },
      "source": [
        "import pandas as pd\n",
        "pd.DataFrame(df.take(5),columns = df.columns).transpose()"
      ],
      "execution_count": 7,
      "outputs": [
        {
          "output_type": "execute_result",
          "data": {
            "text/html": [
              "<div>\n",
              "<style scoped>\n",
              "    .dataframe tbody tr th:only-of-type {\n",
              "        vertical-align: middle;\n",
              "    }\n",
              "\n",
              "    .dataframe tbody tr th {\n",
              "        vertical-align: top;\n",
              "    }\n",
              "\n",
              "    .dataframe thead th {\n",
              "        text-align: right;\n",
              "    }\n",
              "</style>\n",
              "<table border=\"1\" class=\"dataframe\">\n",
              "  <thead>\n",
              "    <tr style=\"text-align: right;\">\n",
              "      <th></th>\n",
              "      <th>0</th>\n",
              "      <th>1</th>\n",
              "      <th>2</th>\n",
              "      <th>3</th>\n",
              "      <th>4</th>\n",
              "    </tr>\n",
              "  </thead>\n",
              "  <tbody>\n",
              "    <tr>\n",
              "      <th>f0</th>\n",
              "      <td>4.9</td>\n",
              "      <td>4.7</td>\n",
              "      <td>4.6</td>\n",
              "      <td>5</td>\n",
              "      <td>5.4</td>\n",
              "    </tr>\n",
              "    <tr>\n",
              "      <th>f1</th>\n",
              "      <td>3</td>\n",
              "      <td>3.2</td>\n",
              "      <td>3.1</td>\n",
              "      <td>3.6</td>\n",
              "      <td>3.9</td>\n",
              "    </tr>\n",
              "    <tr>\n",
              "      <th>f2</th>\n",
              "      <td>1.4</td>\n",
              "      <td>1.3</td>\n",
              "      <td>1.5</td>\n",
              "      <td>1.4</td>\n",
              "      <td>1.7</td>\n",
              "    </tr>\n",
              "    <tr>\n",
              "      <th>f3</th>\n",
              "      <td>0.2</td>\n",
              "      <td>0.2</td>\n",
              "      <td>0.2</td>\n",
              "      <td>0.2</td>\n",
              "      <td>0.4</td>\n",
              "    </tr>\n",
              "    <tr>\n",
              "      <th>f4</th>\n",
              "      <td>Iris-setosa</td>\n",
              "      <td>Iris-setosa</td>\n",
              "      <td>Iris-setosa</td>\n",
              "      <td>Iris-setosa</td>\n",
              "      <td>Iris-setosa</td>\n",
              "    </tr>\n",
              "  </tbody>\n",
              "</table>\n",
              "</div>"
            ],
            "text/plain": [
              "              0            1            2            3            4\n",
              "f0          4.9          4.7          4.6            5          5.4\n",
              "f1            3          3.2          3.1          3.6          3.9\n",
              "f2          1.4          1.3          1.5          1.4          1.7\n",
              "f3          0.2          0.2          0.2          0.2          0.4\n",
              "f4  Iris-setosa  Iris-setosa  Iris-setosa  Iris-setosa  Iris-setosa"
            ]
          },
          "metadata": {
            "tags": []
          },
          "execution_count": 7
        }
      ]
    },
    {
      "cell_type": "code",
      "metadata": {
        "colab": {
          "base_uri": "https://localhost:8080/",
          "height": 136
        },
        "id": "j3M6W49co_X1",
        "outputId": "e2e2f9e6-7f39-40fc-e133-6ab4a99c815f"
      },
      "source": [
        "class_name = df.columns[len(df.columns)-1]\n",
        "df.groupby(class_name).count().toPandas()"
      ],
      "execution_count": 9,
      "outputs": [
        {
          "output_type": "execute_result",
          "data": {
            "text/html": [
              "<div>\n",
              "<style scoped>\n",
              "    .dataframe tbody tr th:only-of-type {\n",
              "        vertical-align: middle;\n",
              "    }\n",
              "\n",
              "    .dataframe tbody tr th {\n",
              "        vertical-align: top;\n",
              "    }\n",
              "\n",
              "    .dataframe thead th {\n",
              "        text-align: right;\n",
              "    }\n",
              "</style>\n",
              "<table border=\"1\" class=\"dataframe\">\n",
              "  <thead>\n",
              "    <tr style=\"text-align: right;\">\n",
              "      <th></th>\n",
              "      <th>f4</th>\n",
              "      <th>count</th>\n",
              "    </tr>\n",
              "  </thead>\n",
              "  <tbody>\n",
              "    <tr>\n",
              "      <th>0</th>\n",
              "      <td>Iris-virginica</td>\n",
              "      <td>50</td>\n",
              "    </tr>\n",
              "    <tr>\n",
              "      <th>1</th>\n",
              "      <td>Iris-setosa</td>\n",
              "      <td>49</td>\n",
              "    </tr>\n",
              "    <tr>\n",
              "      <th>2</th>\n",
              "      <td>Iris-versicolor</td>\n",
              "      <td>50</td>\n",
              "    </tr>\n",
              "  </tbody>\n",
              "</table>\n",
              "</div>"
            ],
            "text/plain": [
              "                f4  count\n",
              "0   Iris-virginica     50\n",
              "1      Iris-setosa     49\n",
              "2  Iris-versicolor     50"
            ]
          },
          "metadata": {
            "tags": []
          },
          "execution_count": 9
        }
      ]
    },
    {
      "cell_type": "code",
      "metadata": {
        "id": "aj5ZV6qFoJxm"
      },
      "source": [
        "from pyspark.ml.feature import StringIndexer\n",
        "indexer = StringIndexer()\n",
        "indexer.setInputCol(class_name).setOutputCol('label')\n",
        "dfl = indexer.fit(df).transform(df)"
      ],
      "execution_count": 10,
      "outputs": []
    },
    {
      "cell_type": "code",
      "metadata": {
        "colab": {
          "base_uri": "https://localhost:8080/"
        },
        "id": "f5Tl9R-UoLaF",
        "outputId": "ae07cb85-13fa-497c-e9c5-26850e3af33c"
      },
      "source": [
        "dfl.show()"
      ],
      "execution_count": 11,
      "outputs": [
        {
          "output_type": "stream",
          "text": [
            "+---+---+---+---+-----------+-----+\n",
            "| f0| f1| f2| f3|         f4|label|\n",
            "+---+---+---+---+-----------+-----+\n",
            "|4.9|3.0|1.4|0.2|Iris-setosa|  2.0|\n",
            "|4.7|3.2|1.3|0.2|Iris-setosa|  2.0|\n",
            "|4.6|3.1|1.5|0.2|Iris-setosa|  2.0|\n",
            "|5.0|3.6|1.4|0.2|Iris-setosa|  2.0|\n",
            "|5.4|3.9|1.7|0.4|Iris-setosa|  2.0|\n",
            "|4.6|3.4|1.4|0.3|Iris-setosa|  2.0|\n",
            "|5.0|3.4|1.5|0.2|Iris-setosa|  2.0|\n",
            "|4.4|2.9|1.4|0.2|Iris-setosa|  2.0|\n",
            "|4.9|3.1|1.5|0.1|Iris-setosa|  2.0|\n",
            "|5.4|3.7|1.5|0.2|Iris-setosa|  2.0|\n",
            "|4.8|3.4|1.6|0.2|Iris-setosa|  2.0|\n",
            "|4.8|3.0|1.4|0.1|Iris-setosa|  2.0|\n",
            "|4.3|3.0|1.1|0.1|Iris-setosa|  2.0|\n",
            "|5.8|4.0|1.2|0.2|Iris-setosa|  2.0|\n",
            "|5.7|4.4|1.5|0.4|Iris-setosa|  2.0|\n",
            "|5.4|3.9|1.3|0.4|Iris-setosa|  2.0|\n",
            "|5.1|3.5|1.4|0.3|Iris-setosa|  2.0|\n",
            "|5.7|3.8|1.7|0.3|Iris-setosa|  2.0|\n",
            "|5.1|3.8|1.5|0.3|Iris-setosa|  2.0|\n",
            "|5.4|3.4|1.7|0.2|Iris-setosa|  2.0|\n",
            "+---+---+---+---+-----------+-----+\n",
            "only showing top 20 rows\n",
            "\n"
          ],
          "name": "stdout"
        }
      ]
    },
    {
      "cell_type": "code",
      "metadata": {
        "colab": {
          "base_uri": "https://localhost:8080/"
        },
        "id": "mNsBc9n4pR3W",
        "outputId": "edf848c0-0a87-407f-a351-eb3d94111b60"
      },
      "source": [
        "class_name = 'label'\n",
        "feature_names = df.columns[:-1]\n",
        "print(class_name)\n",
        "print(feature_names)"
      ],
      "execution_count": 15,
      "outputs": [
        {
          "output_type": "stream",
          "text": [
            "label\n",
            "['f0', 'f1', 'f2', 'f3']\n"
          ],
          "name": "stdout"
        }
      ]
    },
    {
      "cell_type": "code",
      "metadata": {
        "id": "Qnoc0f1xpqaV"
      },
      "source": [
        "from pyspark.ml.feature import VectorAssembler\n",
        "assembler = VectorAssembler()\n",
        "assembler.setInputCols(feature_names).setOutputCol('data')\n",
        "transformed_data = assembler.transform(dfl)"
      ],
      "execution_count": 16,
      "outputs": []
    },
    {
      "cell_type": "code",
      "metadata": {
        "colab": {
          "base_uri": "https://localhost:8080/"
        },
        "id": "P6vBukydyCp0",
        "outputId": "a5ae2116-a196-4e77-9f0f-a8e7157c42fd"
      },
      "source": [
        "transformed_data.show()"
      ],
      "execution_count": 17,
      "outputs": [
        {
          "output_type": "stream",
          "text": [
            "+---+---+---+---+-----------+-----+-----------------+\n",
            "| f0| f1| f2| f3|         f4|label|             data|\n",
            "+---+---+---+---+-----------+-----+-----------------+\n",
            "|4.9|3.0|1.4|0.2|Iris-setosa|  2.0|[4.9,3.0,1.4,0.2]|\n",
            "|4.7|3.2|1.3|0.2|Iris-setosa|  2.0|[4.7,3.2,1.3,0.2]|\n",
            "|4.6|3.1|1.5|0.2|Iris-setosa|  2.0|[4.6,3.1,1.5,0.2]|\n",
            "|5.0|3.6|1.4|0.2|Iris-setosa|  2.0|[5.0,3.6,1.4,0.2]|\n",
            "|5.4|3.9|1.7|0.4|Iris-setosa|  2.0|[5.4,3.9,1.7,0.4]|\n",
            "|4.6|3.4|1.4|0.3|Iris-setosa|  2.0|[4.6,3.4,1.4,0.3]|\n",
            "|5.0|3.4|1.5|0.2|Iris-setosa|  2.0|[5.0,3.4,1.5,0.2]|\n",
            "|4.4|2.9|1.4|0.2|Iris-setosa|  2.0|[4.4,2.9,1.4,0.2]|\n",
            "|4.9|3.1|1.5|0.1|Iris-setosa|  2.0|[4.9,3.1,1.5,0.1]|\n",
            "|5.4|3.7|1.5|0.2|Iris-setosa|  2.0|[5.4,3.7,1.5,0.2]|\n",
            "|4.8|3.4|1.6|0.2|Iris-setosa|  2.0|[4.8,3.4,1.6,0.2]|\n",
            "|4.8|3.0|1.4|0.1|Iris-setosa|  2.0|[4.8,3.0,1.4,0.1]|\n",
            "|4.3|3.0|1.1|0.1|Iris-setosa|  2.0|[4.3,3.0,1.1,0.1]|\n",
            "|5.8|4.0|1.2|0.2|Iris-setosa|  2.0|[5.8,4.0,1.2,0.2]|\n",
            "|5.7|4.4|1.5|0.4|Iris-setosa|  2.0|[5.7,4.4,1.5,0.4]|\n",
            "|5.4|3.9|1.3|0.4|Iris-setosa|  2.0|[5.4,3.9,1.3,0.4]|\n",
            "|5.1|3.5|1.4|0.3|Iris-setosa|  2.0|[5.1,3.5,1.4,0.3]|\n",
            "|5.7|3.8|1.7|0.3|Iris-setosa|  2.0|[5.7,3.8,1.7,0.3]|\n",
            "|5.1|3.8|1.5|0.3|Iris-setosa|  2.0|[5.1,3.8,1.5,0.3]|\n",
            "|5.4|3.4|1.7|0.2|Iris-setosa|  2.0|[5.4,3.4,1.7,0.2]|\n",
            "+---+---+---+---+-----------+-----+-----------------+\n",
            "only showing top 20 rows\n",
            "\n"
          ],
          "name": "stdout"
        }
      ]
    },
    {
      "cell_type": "code",
      "metadata": {
        "id": "f8sZN-uMyKgY"
      },
      "source": [
        "import pyspark.sql.functions as F\n",
        "from pyspark.sql.types import FloatType\n",
        "from scipy.spatial import distance\n",
        "\n",
        "fixed_entry = [5.1,3.5,1.4,0.2] #for example, the entry against which you want distances\n",
        "distance_udf = F.udf(lambda x: float(distance.euclidean(x, fixed_entry)), FloatType())\n",
        "transformed_data = transformed_data.withColumn('distances', distance_udf(F.col('data')))"
      ],
      "execution_count": 34,
      "outputs": []
    },
    {
      "cell_type": "code",
      "metadata": {
        "colab": {
          "base_uri": "https://localhost:8080/"
        },
        "id": "4AOG0ASUzA_q",
        "outputId": "e6bbea2e-d83c-4547-880a-27179fedc32b"
      },
      "source": [
        "transformed_data.show()"
      ],
      "execution_count": 35,
      "outputs": [
        {
          "output_type": "stream",
          "text": [
            "+---+---+---+---+-----------+-----+-----------------+----------+\n",
            "| f0| f1| f2| f3|         f4|label|             data| distances|\n",
            "+---+---+---+---+-----------+-----+-----------------+----------+\n",
            "|4.9|3.0|1.4|0.2|Iris-setosa|  2.0|[4.9,3.0,1.4,0.2]|0.53851646|\n",
            "|4.7|3.2|1.3|0.2|Iris-setosa|  2.0|[4.7,3.2,1.3,0.2]|0.50990194|\n",
            "|4.6|3.1|1.5|0.2|Iris-setosa|  2.0|[4.6,3.1,1.5,0.2]| 0.6480741|\n",
            "|5.0|3.6|1.4|0.2|Iris-setosa|  2.0|[5.0,3.6,1.4,0.2]|0.14142136|\n",
            "|5.4|3.9|1.7|0.4|Iris-setosa|  2.0|[5.4,3.9,1.7,0.4]| 0.6164414|\n",
            "|4.6|3.4|1.4|0.3|Iris-setosa|  2.0|[4.6,3.4,1.4,0.3]|0.51961523|\n",
            "|5.0|3.4|1.5|0.2|Iris-setosa|  2.0|[5.0,3.4,1.5,0.2]|0.17320508|\n",
            "|4.4|2.9|1.4|0.2|Iris-setosa|  2.0|[4.4,2.9,1.4,0.2]|0.92195445|\n",
            "|4.9|3.1|1.5|0.1|Iris-setosa|  2.0|[4.9,3.1,1.5,0.1]| 0.4690416|\n",
            "|5.4|3.7|1.5|0.2|Iris-setosa|  2.0|[5.4,3.7,1.5,0.2]|0.37416574|\n",
            "|4.8|3.4|1.6|0.2|Iris-setosa|  2.0|[4.8,3.4,1.6,0.2]|0.37416574|\n",
            "|4.8|3.0|1.4|0.1|Iris-setosa|  2.0|[4.8,3.0,1.4,0.1]|  0.591608|\n",
            "|4.3|3.0|1.1|0.1|Iris-setosa|  2.0|[4.3,3.0,1.1,0.1]| 0.9949874|\n",
            "|5.8|4.0|1.2|0.2|Iris-setosa|  2.0|[5.8,4.0,1.2,0.2]| 0.8831761|\n",
            "|5.7|4.4|1.5|0.4|Iris-setosa|  2.0|[5.7,4.4,1.5,0.4]|  1.104536|\n",
            "|5.4|3.9|1.3|0.4|Iris-setosa|  2.0|[5.4,3.9,1.3,0.4]| 0.5477226|\n",
            "|5.1|3.5|1.4|0.3|Iris-setosa|  2.0|[5.1,3.5,1.4,0.3]|       0.1|\n",
            "|5.7|3.8|1.7|0.3|Iris-setosa|  2.0|[5.7,3.8,1.7,0.3]| 0.7416198|\n",
            "|5.1|3.8|1.5|0.3|Iris-setosa|  2.0|[5.1,3.8,1.5,0.3]|0.33166248|\n",
            "|5.4|3.4|1.7|0.2|Iris-setosa|  2.0|[5.4,3.4,1.7,0.2]| 0.4358899|\n",
            "+---+---+---+---+-----------+-----+-----------------+----------+\n",
            "only showing top 20 rows\n",
            "\n"
          ],
          "name": "stdout"
        }
      ]
    },
    {
      "cell_type": "code",
      "metadata": {
        "colab": {
          "base_uri": "https://localhost:8080/"
        },
        "id": "7hpUuEAZ5QJ1",
        "outputId": "57a91d92-c106-4dd0-f401-16a223496842"
      },
      "source": [
        "transformed_data = transformed_data.sort(transformed_data.distances.asc())\n",
        "transformed_data.filter(transformed_data.distances > 0).take(3)"
      ],
      "execution_count": 36,
      "outputs": [
        {
          "output_type": "execute_result",
          "data": {
            "text/plain": [
              "[Row(f0=5.1, f1=3.5, f2=1.4, f3=0.3, f4='Iris-setosa', label=2.0, data=DenseVector([5.1, 3.5, 1.4, 0.3]), distances=0.10000000149011612),\n",
              " Row(f0=5.1, f1=3.4, f2=1.5, f3=0.2, f4='Iris-setosa', label=2.0, data=DenseVector([5.1, 3.4, 1.5, 0.2]), distances=0.1414213627576828),\n",
              " Row(f0=5.2, f1=3.4, f2=1.4, f3=0.2, f4='Iris-setosa', label=2.0, data=DenseVector([5.2, 3.4, 1.4, 0.2]), distances=0.1414213627576828)]"
            ]
          },
          "metadata": {
            "tags": []
          },
          "execution_count": 36
        }
      ]
    }
  ]
}