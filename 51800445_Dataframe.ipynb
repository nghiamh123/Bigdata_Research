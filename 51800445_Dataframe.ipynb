{
  "nbformat": 4,
  "nbformat_minor": 0,
  "metadata": {
    "colab": {
      "name": "Dataframe.ipynb",
      "provenance": []
    },
    "kernelspec": {
      "name": "python3",
      "display_name": "Python 3"
    },
    "language_info": {
      "name": "python"
    }
  },
  "cells": [
    {
      "cell_type": "code",
      "metadata": {
        "colab": {
          "base_uri": "https://localhost:8080/"
        },
        "id": "nUVkB8xKFy3y",
        "outputId": "1b58ceac-a729-402f-e014-3a252ae6fc35"
      },
      "source": [
        "!pip install pyspark"
      ],
      "execution_count": null,
      "outputs": [
        {
          "output_type": "stream",
          "text": [
            "Collecting pyspark\n",
            "\u001b[?25l  Downloading https://files.pythonhosted.org/packages/45/b0/9d6860891ab14a39d4bddf80ba26ce51c2f9dc4805e5c6978ac0472c120a/pyspark-3.1.1.tar.gz (212.3MB)\n",
            "\u001b[K     |████████████████████████████████| 212.3MB 73kB/s \n",
            "\u001b[?25hCollecting py4j==0.10.9\n",
            "\u001b[?25l  Downloading https://files.pythonhosted.org/packages/9e/b6/6a4fb90cd235dc8e265a6a2067f2a2c99f0d91787f06aca4bcf7c23f3f80/py4j-0.10.9-py2.py3-none-any.whl (198kB)\n",
            "\u001b[K     |████████████████████████████████| 204kB 43.0MB/s \n",
            "\u001b[?25hBuilding wheels for collected packages: pyspark\n",
            "  Building wheel for pyspark (setup.py) ... \u001b[?25l\u001b[?25hdone\n",
            "  Created wheel for pyspark: filename=pyspark-3.1.1-py2.py3-none-any.whl size=212767604 sha256=83ed90e6f554d69ab2f4f3f8499abfdaf4dc79f02fac44419aecc8a7dbb4859b\n",
            "  Stored in directory: /root/.cache/pip/wheels/0b/90/c0/01de724414ef122bd05f056541fb6a0ecf47c7ca655f8b3c0f\n",
            "Successfully built pyspark\n",
            "Installing collected packages: py4j, pyspark\n",
            "Successfully installed py4j-0.10.9 pyspark-3.1.1\n"
          ],
          "name": "stdout"
        }
      ]
    },
    {
      "cell_type": "code",
      "metadata": {
        "id": "lLf3Q13jFb8Q"
      },
      "source": [
        "from pyspark.sql import SparkSession\n",
        "#SparkSession\n",
        "spark = SparkSession \\\n",
        "    .builder \\\n",
        "    .appName(\"Dataframe basic example\") \\\n",
        "    .config(\"spark.some.config.option\", \"some-value\") \\\n",
        "    .getOrCreate()"
      ],
      "execution_count": null,
      "outputs": []
    },
    {
      "cell_type": "code",
      "metadata": {
        "colab": {
          "base_uri": "https://localhost:8080/"
        },
        "id": "sQt9r5h7FyQu",
        "outputId": "8d7913ef-6bfa-4c9b-8298-1b44c587ba3f"
      },
      "source": [
        "#Create DataFrame\n",
        "df = spark.read.csv('iris.data',header=True, inferSchema= True)\n",
        "#tree format\n",
        "df.printSchema()"
      ],
      "execution_count": null,
      "outputs": [
        {
          "output_type": "stream",
          "text": [
            "root\n",
            " |-- sepal_length: double (nullable = true)\n",
            " |-- sepal_width: double (nullable = true)\n",
            " |-- petal_length: double (nullable = true)\n",
            " |-- petal_width: double (nullable = true)\n",
            " |-- class: string (nullable = true)\n",
            "\n"
          ],
          "name": "stdout"
        }
      ]
    },
    {
      "cell_type": "code",
      "metadata": {
        "colab": {
          "base_uri": "https://localhost:8080/"
        },
        "id": "LzH7PsaSGwK7",
        "outputId": "89a90d33-29f6-4aa6-c813-160cc6841395"
      },
      "source": [
        "df.show()"
      ],
      "execution_count": null,
      "outputs": [
        {
          "output_type": "stream",
          "text": [
            "+------------+-----------+------------+-----------+-----------+\n",
            "|sepal_length|sepal_width|petal_length|petal_width|      class|\n",
            "+------------+-----------+------------+-----------+-----------+\n",
            "|         5.1|        3.5|         1.4|        0.2|Iris-setosa|\n",
            "|         4.9|        3.0|         1.4|        0.2|Iris-setosa|\n",
            "|         4.7|        3.2|         1.3|        0.2|Iris-setosa|\n",
            "|         4.6|        3.1|         1.5|        0.2|Iris-setosa|\n",
            "|         5.0|        3.6|         1.4|        0.2|Iris-setosa|\n",
            "|         5.4|        3.9|         1.7|        0.4|Iris-setosa|\n",
            "|         4.6|        3.4|         1.4|        0.3|Iris-setosa|\n",
            "|         5.0|        3.4|         1.5|        0.2|Iris-setosa|\n",
            "|         4.4|        2.9|         1.4|        0.2|Iris-setosa|\n",
            "|         4.9|        3.1|         1.5|        0.1|Iris-setosa|\n",
            "|         5.4|        3.7|         1.5|        0.2|Iris-setosa|\n",
            "|         4.8|        3.4|         1.6|        0.2|Iris-setosa|\n",
            "|         4.8|        3.0|         1.4|        0.1|Iris-setosa|\n",
            "|         4.3|        3.0|         1.1|        0.1|Iris-setosa|\n",
            "|         5.8|        4.0|         1.2|        0.2|Iris-setosa|\n",
            "|         5.7|        4.4|         1.5|        0.4|Iris-setosa|\n",
            "|         5.4|        3.9|         1.3|        0.4|Iris-setosa|\n",
            "|         5.1|        3.5|         1.4|        0.3|Iris-setosa|\n",
            "|         5.7|        3.8|         1.7|        0.3|Iris-setosa|\n",
            "|         5.1|        3.8|         1.5|        0.3|Iris-setosa|\n",
            "+------------+-----------+------------+-----------+-----------+\n",
            "only showing top 20 rows\n",
            "\n"
          ],
          "name": "stdout"
        }
      ]
    },
    {
      "cell_type": "code",
      "metadata": {
        "colab": {
          "base_uri": "https://localhost:8080/"
        },
        "id": "44v5j3oSMbf1",
        "outputId": "9e2a28e8-94b1-4248-837b-05d603042429"
      },
      "source": [
        "#Select only the class column\n",
        "df.select(\"class\").show()"
      ],
      "execution_count": null,
      "outputs": [
        {
          "output_type": "stream",
          "text": [
            "+-----------+\n",
            "|      class|\n",
            "+-----------+\n",
            "|Iris-setosa|\n",
            "|Iris-setosa|\n",
            "|Iris-setosa|\n",
            "|Iris-setosa|\n",
            "|Iris-setosa|\n",
            "|Iris-setosa|\n",
            "|Iris-setosa|\n",
            "|Iris-setosa|\n",
            "|Iris-setosa|\n",
            "|Iris-setosa|\n",
            "|Iris-setosa|\n",
            "|Iris-setosa|\n",
            "|Iris-setosa|\n",
            "|Iris-setosa|\n",
            "|Iris-setosa|\n",
            "|Iris-setosa|\n",
            "|Iris-setosa|\n",
            "|Iris-setosa|\n",
            "|Iris-setosa|\n",
            "|Iris-setosa|\n",
            "+-----------+\n",
            "only showing top 20 rows\n",
            "\n"
          ],
          "name": "stdout"
        }
      ]
    },
    {
      "cell_type": "code",
      "metadata": {
        "colab": {
          "base_uri": "https://localhost:8080/"
        },
        "id": "_HVZU1WQMtry",
        "outputId": "018f7df3-7fa0-4644-b8e9-de2fa4d69999"
      },
      "source": [
        "#Select the class column & increment sepal_length value + 1\n",
        "df.select(df['class'], df['sepal_length'] + 1).show()"
      ],
      "execution_count": null,
      "outputs": [
        {
          "output_type": "stream",
          "text": [
            "+-----------+------------------+\n",
            "|      class|(sepal_length + 1)|\n",
            "+-----------+------------------+\n",
            "|Iris-setosa|               6.1|\n",
            "|Iris-setosa|               5.9|\n",
            "|Iris-setosa|               5.7|\n",
            "|Iris-setosa|               5.6|\n",
            "|Iris-setosa|               6.0|\n",
            "|Iris-setosa|               6.4|\n",
            "|Iris-setosa|               5.6|\n",
            "|Iris-setosa|               6.0|\n",
            "|Iris-setosa|               5.4|\n",
            "|Iris-setosa|               5.9|\n",
            "|Iris-setosa|               6.4|\n",
            "|Iris-setosa|               5.8|\n",
            "|Iris-setosa|               5.8|\n",
            "|Iris-setosa|               5.3|\n",
            "|Iris-setosa|               6.8|\n",
            "|Iris-setosa|               6.7|\n",
            "|Iris-setosa|               6.4|\n",
            "|Iris-setosa|               6.1|\n",
            "|Iris-setosa|               6.7|\n",
            "|Iris-setosa|               6.1|\n",
            "+-----------+------------------+\n",
            "only showing top 20 rows\n",
            "\n"
          ],
          "name": "stdout"
        }
      ]
    },
    {
      "cell_type": "code",
      "metadata": {
        "colab": {
          "base_uri": "https://localhost:8080/"
        },
        "id": "f3dXHuyJMtoQ",
        "outputId": "ce2d32af-82f8-4d0d-b8f7-112b87f97822"
      },
      "source": [
        "# Select flower have sepal_length value older than 5\n",
        "df.filter(df['sepal_length'] > 5).show()"
      ],
      "execution_count": null,
      "outputs": [
        {
          "output_type": "stream",
          "text": [
            "+------------+-----------+------------+-----------+-----------+\n",
            "|sepal_length|sepal_width|petal_length|petal_width|      class|\n",
            "+------------+-----------+------------+-----------+-----------+\n",
            "|         5.1|        3.5|         1.4|        0.2|Iris-setosa|\n",
            "|         5.4|        3.9|         1.7|        0.4|Iris-setosa|\n",
            "|         5.4|        3.7|         1.5|        0.2|Iris-setosa|\n",
            "|         5.8|        4.0|         1.2|        0.2|Iris-setosa|\n",
            "|         5.7|        4.4|         1.5|        0.4|Iris-setosa|\n",
            "|         5.4|        3.9|         1.3|        0.4|Iris-setosa|\n",
            "|         5.1|        3.5|         1.4|        0.3|Iris-setosa|\n",
            "|         5.7|        3.8|         1.7|        0.3|Iris-setosa|\n",
            "|         5.1|        3.8|         1.5|        0.3|Iris-setosa|\n",
            "|         5.4|        3.4|         1.7|        0.2|Iris-setosa|\n",
            "|         5.1|        3.7|         1.5|        0.4|Iris-setosa|\n",
            "|         5.1|        3.3|         1.7|        0.5|Iris-setosa|\n",
            "|         5.2|        3.5|         1.5|        0.2|Iris-setosa|\n",
            "|         5.2|        3.4|         1.4|        0.2|Iris-setosa|\n",
            "|         5.4|        3.4|         1.5|        0.4|Iris-setosa|\n",
            "|         5.2|        4.1|         1.5|        0.1|Iris-setosa|\n",
            "|         5.5|        4.2|         1.4|        0.2|Iris-setosa|\n",
            "|         5.5|        3.5|         1.3|        0.2|Iris-setosa|\n",
            "|         5.1|        3.4|         1.5|        0.2|Iris-setosa|\n",
            "|         5.1|        3.8|         1.9|        0.4|Iris-setosa|\n",
            "+------------+-----------+------------+-----------+-----------+\n",
            "only showing top 20 rows\n",
            "\n"
          ],
          "name": "stdout"
        }
      ]
    },
    {
      "cell_type": "code",
      "metadata": {
        "colab": {
          "base_uri": "https://localhost:8080/"
        },
        "id": "oHR8o87sRpev",
        "outputId": "18566ddc-7b8b-44cd-b9f3-59eb360e2222"
      },
      "source": [
        "# Take the first 3 rows\n",
        "df.take(3)"
      ],
      "execution_count": null,
      "outputs": [
        {
          "output_type": "execute_result",
          "data": {
            "text/plain": [
              "[Row(sepal_length=5.1, sepal_width=3.5, petal_length=1.4, petal_width=0.2, class='Iris-setosa'),\n",
              " Row(sepal_length=4.9, sepal_width=3.0, petal_length=1.4, petal_width=0.2, class='Iris-setosa'),\n",
              " Row(sepal_length=4.7, sepal_width=3.2, petal_length=1.3, petal_width=0.2, class='Iris-setosa')]"
            ]
          },
          "metadata": {
            "tags": []
          },
          "execution_count": 20
        }
      ]
    },
    {
      "cell_type": "code",
      "metadata": {
        "colab": {
          "base_uri": "https://localhost:8080/"
        },
        "id": "aATe0sstR1hc",
        "outputId": "66cf60b5-fcd2-47c6-d5bb-6326ba722bd0"
      },
      "source": [
        "print(\"In total there are {0} operations\".format(df.count()))"
      ],
      "execution_count": null,
      "outputs": [
        {
          "output_type": "stream",
          "text": [
            "In total there are 150 operations\n"
          ],
          "name": "stdout"
        }
      ]
    },
    {
      "cell_type": "code",
      "metadata": {
        "colab": {
          "base_uri": "https://localhost:8080/"
        },
        "id": "AlgHz3_xOMZj",
        "outputId": "69c6f8ad-ddb0-4f8b-fd7b-6c7c0254d3d4"
      },
      "source": [
        "# Count flower by class\n",
        "df.groupBy(\"class\").count().show()\n",
        "df1 = df.groupBy(\"class\").count()"
      ],
      "execution_count": null,
      "outputs": [
        {
          "output_type": "stream",
          "text": [
            "+---------------+-----+\n",
            "|          class|count|\n",
            "+---------------+-----+\n",
            "| Iris-virginica|   50|\n",
            "|    Iris-setosa|   50|\n",
            "|Iris-versicolor|   50|\n",
            "+---------------+-----+\n",
            "\n"
          ],
          "name": "stdout"
        }
      ]
    },
    {
      "cell_type": "code",
      "metadata": {
        "colab": {
          "base_uri": "https://localhost:8080/",
          "height": 533
        },
        "id": "_RLnOQZLSlNy",
        "outputId": "0558dbe7-54e1-4f4f-fb5e-8da0713d60cc"
      },
      "source": [
        "pd = df1.toPandas()\n",
        "pl = pd.plot(kind=\"bar\", \n",
        "              x=\"class\", y=\"count\", \n",
        "              figsize=(10, 7), log=True, alpha=0.5, color=\"olive\")\n",
        "\n",
        "pl.set_xlabel(\"Flower\")\n",
        "pl.set_ylabel(\"Count\")\n",
        "pl.set_title(\"The number of each flower\")"
      ],
      "execution_count": null,
      "outputs": [
        {
          "output_type": "execute_result",
          "data": {
            "text/plain": [
              "Text(0.5, 1.0, 'The number of each flower')"
            ]
          },
          "metadata": {
            "tags": []
          },
          "execution_count": 25
        },
        {
          "output_type": "display_data",
          "data": {
            "image/png": "[encoded data removed]",
            "text/plain": [
              "<Figure size 720x504 with 1 Axes>"
            ]
          },
          "metadata": {
            "tags": [],
            "needs_background": "light"
          }
        }
      ]
    },
    {
      "cell_type": "markdown",
      "metadata": {
        "id": "e5553G3uOo-j"
      },
      "source": [
        "Running SQL Queries Programmatically"
      ]
    },
    {
      "cell_type": "code",
      "metadata": {
        "colab": {
          "base_uri": "https://localhost:8080/"
        },
        "id": "iGMmAXTLOrfC",
        "outputId": "11570e9f-e3fc-4755-a3c1-7ccdc66c29c6"
      },
      "source": [
        "df.createOrReplaceTempView(\"flower\")\n",
        "\n",
        "sqlDF = spark.sql(\"SELECT * FROM flower\")\n",
        "sqlDF.show()"
      ],
      "execution_count": null,
      "outputs": [
        {
          "output_type": "stream",
          "text": [
            "+------------+-----------+------------+-----------+-----------+\n",
            "|sepal_length|sepal_width|petal_length|petal_width|      class|\n",
            "+------------+-----------+------------+-----------+-----------+\n",
            "|         5.1|        3.5|         1.4|        0.2|Iris-setosa|\n",
            "|         4.9|        3.0|         1.4|        0.2|Iris-setosa|\n",
            "|         4.7|        3.2|         1.3|        0.2|Iris-setosa|\n",
            "|         4.6|        3.1|         1.5|        0.2|Iris-setosa|\n",
            "|         5.0|        3.6|         1.4|        0.2|Iris-setosa|\n",
            "|         5.4|        3.9|         1.7|        0.4|Iris-setosa|\n",
            "|         4.6|        3.4|         1.4|        0.3|Iris-setosa|\n",
            "|         5.0|        3.4|         1.5|        0.2|Iris-setosa|\n",
            "|         4.4|        2.9|         1.4|        0.2|Iris-setosa|\n",
            "|         4.9|        3.1|         1.5|        0.1|Iris-setosa|\n",
            "|         5.4|        3.7|         1.5|        0.2|Iris-setosa|\n",
            "|         4.8|        3.4|         1.6|        0.2|Iris-setosa|\n",
            "|         4.8|        3.0|         1.4|        0.1|Iris-setosa|\n",
            "|         4.3|        3.0|         1.1|        0.1|Iris-setosa|\n",
            "|         5.8|        4.0|         1.2|        0.2|Iris-setosa|\n",
            "|         5.7|        4.4|         1.5|        0.4|Iris-setosa|\n",
            "|         5.4|        3.9|         1.3|        0.4|Iris-setosa|\n",
            "|         5.1|        3.5|         1.4|        0.3|Iris-setosa|\n",
            "|         5.7|        3.8|         1.7|        0.3|Iris-setosa|\n",
            "|         5.1|        3.8|         1.5|        0.3|Iris-setosa|\n",
            "+------------+-----------+------------+-----------+-----------+\n",
            "only showing top 20 rows\n",
            "\n"
          ],
          "name": "stdout"
        }
      ]
    },
    {
      "cell_type": "code",
      "metadata": {
        "colab": {
          "base_uri": "https://localhost:8080/"
        },
        "id": "qVHgW3ngO1Th",
        "outputId": "d94b7369-5259-4fe3-f540-c92734f89f14"
      },
      "source": [
        "sqlDF = spark.sql(\"SELECT * FROM flower WHERE sepal_length > 5\")\n",
        "sqlDF.show()"
      ],
      "execution_count": null,
      "outputs": [
        {
          "output_type": "stream",
          "text": [
            "+------------+-----------+------------+-----------+-----------+\n",
            "|sepal_length|sepal_width|petal_length|petal_width|      class|\n",
            "+------------+-----------+------------+-----------+-----------+\n",
            "|         5.1|        3.5|         1.4|        0.2|Iris-setosa|\n",
            "|         5.4|        3.9|         1.7|        0.4|Iris-setosa|\n",
            "|         5.4|        3.7|         1.5|        0.2|Iris-setosa|\n",
            "|         5.8|        4.0|         1.2|        0.2|Iris-setosa|\n",
            "|         5.7|        4.4|         1.5|        0.4|Iris-setosa|\n",
            "|         5.4|        3.9|         1.3|        0.4|Iris-setosa|\n",
            "|         5.1|        3.5|         1.4|        0.3|Iris-setosa|\n",
            "|         5.7|        3.8|         1.7|        0.3|Iris-setosa|\n",
            "|         5.1|        3.8|         1.5|        0.3|Iris-setosa|\n",
            "|         5.4|        3.4|         1.7|        0.2|Iris-setosa|\n",
            "|         5.1|        3.7|         1.5|        0.4|Iris-setosa|\n",
            "|         5.1|        3.3|         1.7|        0.5|Iris-setosa|\n",
            "|         5.2|        3.5|         1.5|        0.2|Iris-setosa|\n",
            "|         5.2|        3.4|         1.4|        0.2|Iris-setosa|\n",
            "|         5.4|        3.4|         1.5|        0.4|Iris-setosa|\n",
            "|         5.2|        4.1|         1.5|        0.1|Iris-setosa|\n",
            "|         5.5|        4.2|         1.4|        0.2|Iris-setosa|\n",
            "|         5.5|        3.5|         1.3|        0.2|Iris-setosa|\n",
            "|         5.1|        3.4|         1.5|        0.2|Iris-setosa|\n",
            "|         5.1|        3.8|         1.9|        0.4|Iris-setosa|\n",
            "+------------+-----------+------------+-----------+-----------+\n",
            "only showing top 20 rows\n",
            "\n"
          ],
          "name": "stdout"
        }
      ]
    }
  ]
}